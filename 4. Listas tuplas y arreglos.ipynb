{
  "nbformat": 4,
  "nbformat_minor": 0,
  "metadata": {
    "colab": {
      "provenance": []
    },
    "kernelspec": {
      "name": "python3",
      "display_name": "Python 3"
    },
    "language_info": {
      "name": "python"
    }
  },
  "cells": [
    {
      "cell_type": "code",
      "execution_count": null,
      "metadata": {
        "id": "fPwTbh3BhO6d"
      },
      "outputs": [],
      "source": [
        "clientes = ['Ana', 'Pedro', 'Lucía']\n",
        "ventas = [250, 300, 400]"
      ]
    },
    {
      "cell_type": "code",
      "source": [
        "print(clientes[0])"
      ],
      "metadata": {
        "colab": {
          "base_uri": "https://localhost:8080/"
        },
        "id": "CW3TPa32h1ZR",
        "outputId": "efd7c87e-dfe7-4ada-fbce-e11bf37a83a8"
      },
      "execution_count": null,
      "outputs": [
        {
          "output_type": "stream",
          "name": "stdout",
          "text": [
            "Ana\n"
          ]
        }
      ]
    },
    {
      "cell_type": "code",
      "source": [
        "print(clientes[-1])"
      ],
      "metadata": {
        "colab": {
          "base_uri": "https://localhost:8080/"
        },
        "id": "PwU8mcrdh3d6",
        "outputId": "b3597e84-f782-4c1c-8991-877f1a0c151d"
      },
      "execution_count": null,
      "outputs": [
        {
          "output_type": "stream",
          "name": "stdout",
          "text": [
            "Lucía\n"
          ]
        }
      ]
    },
    {
      "cell_type": "code",
      "source": [
        "ventas[1] = 350\n",
        "print(ventas)"
      ],
      "metadata": {
        "colab": {
          "base_uri": "https://localhost:8080/"
        },
        "id": "PUuneDJDh5w4",
        "outputId": "258fa911-b3bc-4ccc-9230-d3bc8ca79ad9"
      },
      "execution_count": null,
      "outputs": [
        {
          "output_type": "stream",
          "name": "stdout",
          "text": [
            "[250, 350, 400]\n"
          ]
        }
      ]
    },
    {
      "cell_type": "code",
      "source": [
        "ventas.append(500)\n",
        "print(ventas)"
      ],
      "metadata": {
        "colab": {
          "base_uri": "https://localhost:8080/"
        },
        "id": "Jez5wVc-h9BB",
        "outputId": "a1e0efbc-af7b-4cb2-fd60-7b90c79ad79d"
      },
      "execution_count": null,
      "outputs": [
        {
          "output_type": "stream",
          "name": "stdout",
          "text": [
            "[250, 350, 400, 500]\n"
          ]
        }
      ]
    },
    {
      "cell_type": "code",
      "source": [
        "ventas.remove(250)\n",
        "print(ventas)"
      ],
      "metadata": {
        "colab": {
          "base_uri": "https://localhost:8080/"
        },
        "id": "NQnn7AAxh_3n",
        "outputId": "75f6bb14-0909-40dc-f019-4e73f3653285"
      },
      "execution_count": null,
      "outputs": [
        {
          "output_type": "stream",
          "name": "stdout",
          "text": [
            "[350, 400, 500]\n"
          ]
        }
      ]
    },
    {
      "cell_type": "code",
      "source": [
        "calificaciones = [4, 5, 3, 4, 5]"
      ],
      "metadata": {
        "id": "GXLroe28iC3q"
      },
      "execution_count": null,
      "outputs": []
    },
    {
      "cell_type": "code",
      "source": [
        "promedio = sum(calificaciones) / len(calificaciones)\n",
        "print(promedio)"
      ],
      "metadata": {
        "colab": {
          "base_uri": "https://localhost:8080/"
        },
        "id": "1MxdSlDyiFT8",
        "outputId": "3b2769ac-c5b9-4abc-a84d-1054f9bfc5da"
      },
      "execution_count": null,
      "outputs": [
        {
          "output_type": "stream",
          "name": "stdout",
          "text": [
            "4.2\n"
          ]
        }
      ]
    },
    {
      "cell_type": "code",
      "source": [
        "edades = [25, None, 30, 22, None, 29]\n",
        "print(edades)"
      ],
      "metadata": {
        "colab": {
          "base_uri": "https://localhost:8080/"
        },
        "id": "tYpbvGzaiJwl",
        "outputId": "419ae013-e5ce-4796-84a2-45be12449995"
      },
      "execution_count": null,
      "outputs": [
        {
          "output_type": "stream",
          "name": "stdout",
          "text": [
            "[25, None, 30, 22, None, 29]\n"
          ]
        }
      ]
    },
    {
      "cell_type": "code",
      "source": [
        "edades_limpias = [edad for edad in edades if edad is not None]\n",
        "print(edades_limpias)"
      ],
      "metadata": {
        "colab": {
          "base_uri": "https://localhost:8080/"
        },
        "id": "nr3nrTjziMbl",
        "outputId": "84a4ae35-c24e-4c44-f308-2f082b9ca9d7"
      },
      "execution_count": null,
      "outputs": [
        {
          "output_type": "stream",
          "name": "stdout",
          "text": [
            "[25, 30, 22, 29]\n"
          ]
        }
      ]
    },
    {
      "cell_type": "code",
      "source": [
        "colores = ['azul', 'rojo', 'verde', 'azul', 'rojo', 'azul']\n",
        "print(colores)"
      ],
      "metadata": {
        "colab": {
          "base_uri": "https://localhost:8080/"
        },
        "id": "uEXIpFbBiPM6",
        "outputId": "a46cc4ee-4b0b-4bd1-9a56-a00fd8f8a71e"
      },
      "execution_count": null,
      "outputs": [
        {
          "output_type": "stream",
          "name": "stdout",
          "text": [
            "['azul', 'rojo', 'verde', 'azul', 'rojo', 'azul']\n"
          ]
        }
      ]
    },
    {
      "cell_type": "code",
      "source": [
        "frecuencia = {color: colores.count(color) for color in set(colores)}\n",
        "print(frecuencia)"
      ],
      "metadata": {
        "colab": {
          "base_uri": "https://localhost:8080/"
        },
        "id": "ilj4F0iciSRc",
        "outputId": "98cb0543-83cd-4a7f-b115-b59afee4f025"
      },
      "execution_count": null,
      "outputs": [
        {
          "output_type": "stream",
          "name": "stdout",
          "text": [
            "{'azul': 3, 'rojo': 2, 'verde': 1}\n"
          ]
        }
      ]
    },
    {
      "cell_type": "code",
      "source": [
        "datos = [\n",
        "    ['Ana', 25, 250],\n",
        "    ['Pedro', 30, 350],\n",
        "    ['Lucía', 22, 400]\n",
        "]\n",
        "print(datos)"
      ],
      "metadata": {
        "colab": {
          "base_uri": "https://localhost:8080/"
        },
        "id": "QyF7-d3EiVVq",
        "outputId": "e4fb0268-cc8c-437a-b9b0-90992c183989"
      },
      "execution_count": null,
      "outputs": [
        {
          "output_type": "stream",
          "name": "stdout",
          "text": [
            "[['Ana', 25, 250], ['Pedro', 30, 350], ['Lucía', 22, 400]]\n"
          ]
        }
      ]
    },
    {
      "cell_type": "code",
      "source": [
        "print(datos[1][2])"
      ],
      "metadata": {
        "colab": {
          "base_uri": "https://localhost:8080/"
        },
        "id": "6bcWZcUTiZ_O",
        "outputId": "42d5490b-5f75-415b-f20a-74b513919b9e"
      },
      "execution_count": null,
      "outputs": [
        {
          "output_type": "stream",
          "name": "stdout",
          "text": [
            "350\n"
          ]
        }
      ]
    },
    {
      "cell_type": "code",
      "source": [
        "mi_tupla = (1, 2, 3, 4)\n",
        "print(mi_tupla)"
      ],
      "metadata": {
        "colab": {
          "base_uri": "https://localhost:8080/"
        },
        "id": "PJTNHoZJidQk",
        "outputId": "61af3115-15dc-43ab-b589-f8c468e1a3ec"
      },
      "execution_count": null,
      "outputs": [
        {
          "output_type": "stream",
          "name": "stdout",
          "text": [
            "(1, 2, 3, 4)\n"
          ]
        }
      ]
    },
    {
      "cell_type": "code",
      "source": [
        "categorias = ('Ventas', 'Clientes', 'Productos')\n",
        "print(categorias)"
      ],
      "metadata": {
        "colab": {
          "base_uri": "https://localhost:8080/"
        },
        "id": "uubuSbsHifqM",
        "outputId": "30441829-e239-4148-904a-66b4756fb255"
      },
      "execution_count": null,
      "outputs": [
        {
          "output_type": "stream",
          "name": "stdout",
          "text": [
            "('Ventas', 'Clientes', 'Productos')\n"
          ]
        }
      ]
    },
    {
      "cell_type": "code",
      "source": [
        "print(categorias[0])"
      ],
      "metadata": {
        "colab": {
          "base_uri": "https://localhost:8080/"
        },
        "id": "FSfhcqpXiis3",
        "outputId": "679ed0d0-962f-47bd-a42d-9d059596a739"
      },
      "execution_count": null,
      "outputs": [
        {
          "output_type": "stream",
          "name": "stdout",
          "text": [
            "Ventas\n"
          ]
        }
      ]
    },
    {
      "cell_type": "code",
      "source": [
        "print(categorias[-1])"
      ],
      "metadata": {
        "colab": {
          "base_uri": "https://localhost:8080/"
        },
        "id": "QFJpTW-CikkS",
        "outputId": "7ec68335-5e00-495c-ef14-c005fd647d36"
      },
      "execution_count": null,
      "outputs": [
        {
          "output_type": "stream",
          "name": "stdout",
          "text": [
            "Productos\n"
          ]
        }
      ]
    },
    {
      "cell_type": "code",
      "source": [
        "print(len(categorias))"
      ],
      "metadata": {
        "colab": {
          "base_uri": "https://localhost:8080/"
        },
        "id": "zi5sw3jJimqZ",
        "outputId": "5add9d16-c0e6-41d3-f63f-b63f76ab495e"
      },
      "execution_count": null,
      "outputs": [
        {
          "output_type": "stream",
          "name": "stdout",
          "text": [
            "3\n"
          ]
        }
      ]
    },
    {
      "cell_type": "code",
      "source": [
        "tupla_1 = (1, 2, 3)\n",
        "tupla_2 = (4, 5, 6)\n",
        "nueva_tupla = tupla_1 + tupla_2\n",
        "print(nueva_tupla)"
      ],
      "metadata": {
        "colab": {
          "base_uri": "https://localhost:8080/"
        },
        "id": "oxMcRodkiogW",
        "outputId": "2b404f95-58f1-4f09-fc83-60f74ee587ea"
      },
      "execution_count": null,
      "outputs": [
        {
          "output_type": "stream",
          "name": "stdout",
          "text": [
            "(1, 2, 3, 4, 5, 6)\n"
          ]
        }
      ]
    },
    {
      "cell_type": "code",
      "source": [
        "ubicacion = (40.7128, -74.0060)  # Latitud y longitud de Nueva York\n",
        "print(f'Latitud: {ubicacion[0]}, Longitud: {ubicacion[1]}')"
      ],
      "metadata": {
        "colab": {
          "base_uri": "https://localhost:8080/"
        },
        "id": "mZ5to0KkitVz",
        "outputId": "8a6f628a-f03f-489b-f8e0-db87d566fe13"
      },
      "execution_count": null,
      "outputs": [
        {
          "output_type": "stream",
          "name": "stdout",
          "text": [
            "Latitud: 40.7128, Longitud: -74.006\n"
          ]
        }
      ]
    },
    {
      "cell_type": "code",
      "source": [
        "print('Latitud: ' + str(ubicacion[0]) + ', Longitud: ' + str(ubicacion[1]))"
      ],
      "metadata": {
        "colab": {
          "base_uri": "https://localhost:8080/"
        },
        "id": "qGFLirDmiwzZ",
        "outputId": "afb1db00-3d12-45b6-9341-f5241560253b"
      },
      "execution_count": null,
      "outputs": [
        {
          "output_type": "stream",
          "name": "stdout",
          "text": [
            "Latitud: 40.7128, Longitud: -74.006\n"
          ]
        }
      ]
    },
    {
      "cell_type": "code",
      "source": [
        "def estadisticas(datos):\n",
        "    promedio = sum(datos) / len(datos)\n",
        "    minimo = min(datos)\n",
        "    maximo = max(datos)\n",
        "    return promedio, minimo, maximo\n",
        "ventas = [250, 300, 400, 500]\n",
        "resultados = estadisticas(ventas)\n",
        "print(f'Promedio: {resultados[0]}, Mínimo: {resultados[1]}, Máximo: {resultados[2]}')\n"
      ],
      "metadata": {
        "colab": {
          "base_uri": "https://localhost:8080/"
        },
        "id": "5cm8VW0viyV0",
        "outputId": "736b4040-4d2e-40d1-e88b-0fcbfbd84756"
      },
      "execution_count": null,
      "outputs": [
        {
          "output_type": "stream",
          "name": "stdout",
          "text": [
            "Promedio: 362.5, Mínimo: 250, Máximo: 500\n"
          ]
        }
      ]
    },
    {
      "cell_type": "code",
      "source": [
        "mi_lista = [1, 2, 3]\n",
        "mi_tupla = tuple(mi_lista)\n",
        "print(mi_tupla)"
      ],
      "metadata": {
        "colab": {
          "base_uri": "https://localhost:8080/"
        },
        "id": "k91OHUZNi7AA",
        "outputId": "c8365bfc-95c2-40ff-896b-58b601abc5c4"
      },
      "execution_count": null,
      "outputs": [
        {
          "output_type": "stream",
          "name": "stdout",
          "text": [
            "(1, 2, 3)\n"
          ]
        }
      ]
    },
    {
      "cell_type": "code",
      "source": [
        "nueva_lista = list(mi_tupla)\n",
        "print(nueva_lista)"
      ],
      "metadata": {
        "colab": {
          "base_uri": "https://localhost:8080/"
        },
        "id": "ByxwFJ6Zi_wN",
        "outputId": "2f4cae52-2810-4d7f-b116-323f1a3c1af6"
      },
      "execution_count": null,
      "outputs": [
        {
          "output_type": "stream",
          "name": "stdout",
          "text": [
            "[1, 2, 3]\n"
          ]
        }
      ]
    },
    {
      "cell_type": "code",
      "source": [
        "temperaturas = [23, 25, 21, 19, 22, 24, 20]\n",
        "print(temperaturas)"
      ],
      "metadata": {
        "colab": {
          "base_uri": "https://localhost:8080/"
        },
        "id": "1L91RccIjC8H",
        "outputId": "6bc1087c-576d-4ce9-dc61-a20e96854e95"
      },
      "execution_count": null,
      "outputs": [
        {
          "output_type": "stream",
          "name": "stdout",
          "text": [
            "[23, 25, 21, 19, 22, 24, 20]\n"
          ]
        }
      ]
    },
    {
      "cell_type": "code",
      "source": [
        "print(temperaturas[0])  # Primer día"
      ],
      "metadata": {
        "colab": {
          "base_uri": "https://localhost:8080/"
        },
        "id": "HS2viw_0jFd_",
        "outputId": "a47543a4-1def-48e0-f4a1-07b3a2f48b73"
      },
      "execution_count": null,
      "outputs": [
        {
          "output_type": "stream",
          "name": "stdout",
          "text": [
            "23\n"
          ]
        }
      ]
    },
    {
      "cell_type": "code",
      "source": [
        "print(temperaturas[-1])  # Último día"
      ],
      "metadata": {
        "colab": {
          "base_uri": "https://localhost:8080/"
        },
        "id": "iotaFzRjjH6l",
        "outputId": "e4d26638-0602-4004-abe3-eec9e3107d23"
      },
      "execution_count": null,
      "outputs": [
        {
          "output_type": "stream",
          "name": "stdout",
          "text": [
            "20\n"
          ]
        }
      ]
    },
    {
      "cell_type": "code",
      "source": [
        "temperaturas.append(26)\n",
        "print(temperaturas)"
      ],
      "metadata": {
        "colab": {
          "base_uri": "https://localhost:8080/"
        },
        "id": "Od2m_drBjKt9",
        "outputId": "ba7c4133-7f74-49cc-9cd5-446e94605a23"
      },
      "execution_count": null,
      "outputs": [
        {
          "output_type": "stream",
          "name": "stdout",
          "text": [
            "[23, 25, 21, 19, 22, 24, 20, 26]\n"
          ]
        }
      ]
    },
    {
      "cell_type": "code",
      "source": [
        "temperaturas.remove(19)\n",
        "print(temperaturas)"
      ],
      "metadata": {
        "colab": {
          "base_uri": "https://localhost:8080/"
        },
        "id": "dG7u0jp5jOBh",
        "outputId": "24620165-e7f0-42e2-e016-77ab2f2aa5ed"
      },
      "execution_count": null,
      "outputs": [
        {
          "output_type": "stream",
          "name": "stdout",
          "text": [
            "[23, 25, 21, 22, 24, 20, 26]\n"
          ]
        }
      ]
    },
    {
      "cell_type": "code",
      "source": [
        "temperaturas[2] = 22\n",
        "print(temperaturas)"
      ],
      "metadata": {
        "colab": {
          "base_uri": "https://localhost:8080/"
        },
        "id": "VPDSq2b7jRYz",
        "outputId": "f217565a-4206-493c-8eec-f42692474757"
      },
      "execution_count": null,
      "outputs": [
        {
          "output_type": "stream",
          "name": "stdout",
          "text": [
            "[23, 25, 22, 22, 24, 20, 26]\n"
          ]
        }
      ]
    },
    {
      "cell_type": "code",
      "source": [
        "promedio = sum(temperaturas) / len(temperaturas)\n",
        "print(f\"Temperatura promedio: {promedio}\")"
      ],
      "metadata": {
        "colab": {
          "base_uri": "https://localhost:8080/"
        },
        "id": "IF9lj8W3jTy7",
        "outputId": "58dbac76-0017-4998-dc1b-1b26dcc65ed2"
      },
      "execution_count": null,
      "outputs": [
        {
          "output_type": "stream",
          "name": "stdout",
          "text": [
            "Temperatura promedio: 23.142857142857142\n"
          ]
        }
      ]
    },
    {
      "cell_type": "code",
      "source": [
        "temperaturas_altas = [temp for temp in temperaturas if temp > promedio]\n",
        "print(temperaturas_altas)"
      ],
      "metadata": {
        "colab": {
          "base_uri": "https://localhost:8080/"
        },
        "id": "2D0MRx7njWvh",
        "outputId": "acefe28b-ec93-496e-c9ce-f747bf565d61"
      },
      "execution_count": null,
      "outputs": [
        {
          "output_type": "stream",
          "name": "stdout",
          "text": [
            "[25, 24, 26]\n"
          ]
        }
      ]
    },
    {
      "cell_type": "code",
      "source": [
        "temperaturas.sort()\n",
        "print(temperaturas)"
      ],
      "metadata": {
        "colab": {
          "base_uri": "https://localhost:8080/"
        },
        "id": "UuSmenTGjbLf",
        "outputId": "1212acc8-4d40-4ea2-e1b0-53f2b07c115c"
      },
      "execution_count": null,
      "outputs": [
        {
          "output_type": "stream",
          "name": "stdout",
          "text": [
            "[20, 22, 22, 23, 24, 25, 26]\n"
          ]
        }
      ]
    },
    {
      "cell_type": "code",
      "source": [
        "datos_mixtos = [23, 'Cálido', 19, 'Frío', 25, 'Cálido']\n",
        "print(datos_mixtos)"
      ],
      "metadata": {
        "colab": {
          "base_uri": "https://localhost:8080/"
        },
        "id": "z9XPoR_ajd0E",
        "outputId": "8a1d988e-f7f2-48ad-deeb-1c8f60798321"
      },
      "execution_count": null,
      "outputs": [
        {
          "output_type": "stream",
          "name": "stdout",
          "text": [
            "[23, 'Cálido', 19, 'Frío', 25, 'Cálido']\n"
          ]
        }
      ]
    }
  ]
}