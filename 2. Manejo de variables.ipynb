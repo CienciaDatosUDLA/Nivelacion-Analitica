{
  "nbformat": 4,
  "nbformat_minor": 0,
  "metadata": {
    "colab": {
      "provenance": []
    },
    "kernelspec": {
      "name": "python3",
      "display_name": "Python 3"
    },
    "language_info": {
      "name": "python"
    }
  },
  "cells": [
    {
      "cell_type": "code",
      "source": [
        "edad = 30\n",
        "type(edad)"
      ],
      "metadata": {
        "colab": {
          "base_uri": "https://localhost:8080/"
        },
        "id": "ZOctJf1a5tHG",
        "outputId": "1282485c-f480-4f50-c0c7-c72717ff25b9"
      },
      "execution_count": null,
      "outputs": [
        {
          "output_type": "execute_result",
          "data": {
            "text/plain": [
              "int"
            ]
          },
          "metadata": {},
          "execution_count": 1
        }
      ]
    },
    {
      "cell_type": "code",
      "source": [
        "nombre = \"Ana Maria\"\n",
        "type(nombre)"
      ],
      "metadata": {
        "colab": {
          "base_uri": "https://localhost:8080/"
        },
        "id": "QieyfJTX6I1S",
        "outputId": "7091e294-507f-4fc0-c4dc-6ac99b3d2c10"
      },
      "execution_count": null,
      "outputs": [
        {
          "output_type": "execute_result",
          "data": {
            "text/plain": [
              "str"
            ]
          },
          "metadata": {},
          "execution_count": 2
        }
      ]
    },
    {
      "cell_type": "code",
      "source": [
        "altura = 1.75\n",
        "type(altura)"
      ],
      "metadata": {
        "colab": {
          "base_uri": "https://localhost:8080/"
        },
        "id": "SoyXx5eY6ME7",
        "outputId": "25f1c5cd-c89e-48d2-c7dc-dc7538b90a64"
      },
      "execution_count": null,
      "outputs": [
        {
          "output_type": "execute_result",
          "data": {
            "text/plain": [
              "float"
            ]
          },
          "metadata": {},
          "execution_count": 3
        }
      ]
    },
    {
      "cell_type": "code",
      "source": [
        "temperaturas = [30.5, 32.0, 28.7, 31.0, 29.5]\n",
        "type(temperaturas)"
      ],
      "metadata": {
        "colab": {
          "base_uri": "https://localhost:8080/"
        },
        "id": "8pEuUVA_6PQ5",
        "outputId": "fc0b7254-23e0-42dd-a72d-dee755c11a53"
      },
      "execution_count": null,
      "outputs": [
        {
          "output_type": "execute_result",
          "data": {
            "text/plain": [
              "list"
            ]
          },
          "metadata": {},
          "execution_count": 4
        }
      ]
    },
    {
      "cell_type": "code",
      "source": [
        "persona = {\"nombre\": \"Juan\", \"edad\": 30, \"altura\": 1.75}\n",
        "type(persona)"
      ],
      "metadata": {
        "colab": {
          "base_uri": "https://localhost:8080/"
        },
        "id": "8NJQtZbG6SyO",
        "outputId": "9aa0e5cc-83b5-41c5-9097-eb9303982f32"
      },
      "execution_count": null,
      "outputs": [
        {
          "output_type": "execute_result",
          "data": {
            "text/plain": [
              "dict"
            ]
          },
          "metadata": {},
          "execution_count": 5
        }
      ]
    },
    {
      "cell_type": "code",
      "source": [
        "es_estudiante = True\n",
        "type(es_estudiante)"
      ],
      "metadata": {
        "colab": {
          "base_uri": "https://localhost:8080/"
        },
        "id": "id8kH6nQ6VZl",
        "outputId": "f53b4519-41a9-4f9a-ef0e-65376b416c5f"
      },
      "execution_count": null,
      "outputs": [
        {
          "output_type": "execute_result",
          "data": {
            "text/plain": [
              "bool"
            ]
          },
          "metadata": {},
          "execution_count": 6
        }
      ]
    },
    {
      "cell_type": "code",
      "source": [
        "precio_producto = 200\n",
        "descuento = 0.1\n",
        "precio_con_descuento = precio_producto * (1 - descuento)\n",
        "print(precio_con_descuento)"
      ],
      "metadata": {
        "colab": {
          "base_uri": "https://localhost:8080/"
        },
        "id": "dl4gY8mu6Y2q",
        "outputId": "a49d0e12-1b7a-42ba-e6f0-7dabf958606a"
      },
      "execution_count": null,
      "outputs": [
        {
          "output_type": "stream",
          "name": "stdout",
          "text": [
            "180.0\n"
          ]
        }
      ]
    },
    {
      "cell_type": "code",
      "source": [
        "edad = 30\n",
        "print(\"Edad inicial:\", edad)\n",
        "\n",
        "edad += 1  # Aumenta la edad en 1\n",
        "print(\"Edad después de un año:\", edad)"
      ],
      "metadata": {
        "colab": {
          "base_uri": "https://localhost:8080/"
        },
        "id": "IoVgjAzl6eeQ",
        "outputId": "cf2fc039-4819-4a0b-dbea-12e89ae9759d"
      },
      "execution_count": null,
      "outputs": [
        {
          "output_type": "stream",
          "name": "stdout",
          "text": [
            "Edad inicial: 30\n",
            "Edad después de un año: 31\n"
          ]
        }
      ]
    }
  ]
}