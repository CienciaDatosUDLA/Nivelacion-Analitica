{
  "nbformat": 4,
  "nbformat_minor": 0,
  "metadata": {
    "colab": {
      "provenance": []
    },
    "kernelspec": {
      "name": "python3",
      "display_name": "Python 3"
    },
    "language_info": {
      "name": "python"
    }
  },
  "cells": [
    {
      "cell_type": "code",
      "execution_count": null,
      "metadata": {
        "id": "y0oy-H15pqAz"
      },
      "outputs": [],
      "source": [
        "ventas = 1200\n",
        "objetivo = 1000"
      ]
    },
    {
      "cell_type": "code",
      "source": [
        "if ventas >= objetivo:\n",
        "    print('¡Felicidades! Alcanzaste el objetivo.')"
      ],
      "metadata": {
        "id": "QJ0VHieupr6f"
      },
      "execution_count": null,
      "outputs": []
    },
    {
      "cell_type": "code",
      "source": [
        "ventas = 800\n",
        "objetivo = 1000"
      ],
      "metadata": {
        "id": "RYfUg6LLpsbN"
      },
      "execution_count": null,
      "outputs": []
    },
    {
      "cell_type": "code",
      "source": [
        "if ventas >= objetivo:\n",
        "    print('¡Felicidades! Alcanzaste el objetivo.')\n",
        "else:\n",
        "    print('No alcanzaste el objetivo, ¡pero sigamos esforzándonos!')"
      ],
      "metadata": {
        "id": "Jeedc6iRpvOl"
      },
      "execution_count": null,
      "outputs": []
    },
    {
      "cell_type": "code",
      "source": [
        "ventas = 950\n",
        "objetivo = 1000"
      ],
      "metadata": {
        "id": "eehRergmpw3j"
      },
      "execution_count": null,
      "outputs": []
    },
    {
      "cell_type": "code",
      "source": [
        "if ventas >= objetivo:\n",
        "    print('¡Felicidades! Alcanzaste el objetivo.')\n",
        "elif ventas >= 900:\n",
        "    print('¡Estuviste muy cerca! Buen trabajo.')\n",
        "else:\n",
        "    print('No alcanzaste el objetivo, ¡pero no te rindas!')"
      ],
      "metadata": {
        "id": "5C-FbyIRpy7Z"
      },
      "execution_count": null,
      "outputs": []
    },
    {
      "cell_type": "code",
      "source": [
        "productos = ['Laptop', 'Tablet', 'Smartphone']\n",
        "\n",
        "for producto in productos:\n",
        "    print(f'Se vendió: {producto}')"
      ],
      "metadata": {
        "id": "3-wzZ9Y5p1sc"
      },
      "execution_count": null,
      "outputs": []
    },
    {
      "cell_type": "code",
      "source": [
        "for dia in range(1, 6):\n",
        "    print(f'Registrando ventas del día {dia}')"
      ],
      "metadata": {
        "id": "q8R71HJVp5nF"
      },
      "execution_count": null,
      "outputs": []
    },
    {
      "cell_type": "code",
      "source": [
        "for numero in range(0, 10, 2):\n",
        "    print(numero)"
      ],
      "metadata": {
        "id": "QCfj-KYSp8tZ"
      },
      "execution_count": null,
      "outputs": []
    },
    {
      "cell_type": "code",
      "source": [
        "productos = ['Laptop', 'Tablet', 'Smartphone']\n",
        "\n",
        "for producto in productos:\n",
        "    if producto == 'Tablet':\n",
        "        print('¡Tablet encontrada!')\n",
        "        break\n",
        "else:\n",
        "    print('El producto no está en la lista.')"
      ],
      "metadata": {
        "id": "Q9L2faomp-VU"
      },
      "execution_count": null,
      "outputs": []
    },
    {
      "cell_type": "code",
      "source": [
        "nombre = 'Python'\n",
        "\n",
        "for letra in nombre:\n",
        "    print(letra)"
      ],
      "metadata": {
        "id": "vaMHrq5eqFUK"
      },
      "execution_count": null,
      "outputs": []
    },
    {
      "cell_type": "code",
      "source": [
        "ventas = {'Laptops': 10, 'Tablets': 15, 'Smartphones': 20}\n",
        "\n",
        "for producto, cantidad in ventas.items():\n",
        "    print(f'{producto}: {cantidad} unidades vendidas')"
      ],
      "metadata": {
        "id": "94ymfBkAqMrQ"
      },
      "execution_count": null,
      "outputs": []
    },
    {
      "cell_type": "code",
      "source": [
        "contador = 1\n",
        "while contador <= 5:\n",
        "    print(f\"Este es el intento número {contador}\")\n",
        "    contador += 1"
      ],
      "metadata": {
        "id": "Bz_5XnB3sSam"
      },
      "execution_count": null,
      "outputs": []
    },
    {
      "cell_type": "code",
      "source": [
        "contador = 1\n",
        "while contador <= 5:  # Condición válida\n",
        "    print(\"Esto nunca se detendrá...\")  # Error: no se actualiza contador"
      ],
      "metadata": {
        "id": "ympA5PT1sVvr"
      },
      "execution_count": null,
      "outputs": []
    },
    {
      "cell_type": "code",
      "source": [
        "numeros = [1, 3, 5, 7, 9]\n",
        "buscado = 5\n",
        "\n",
        "for numero in numeros:\n",
        "    if numero == buscado:\n",
        "        print(f\"¡Número {buscado} encontrado!\")\n",
        "        break"
      ],
      "metadata": {
        "id": "tjY1LFWVscWs"
      },
      "execution_count": null,
      "outputs": []
    },
    {
      "cell_type": "code",
      "source": [
        "numero = 0\n",
        "while numero < 10:\n",
        "    numero += 1\n",
        "    if numero % 2 == 0:  # Si el número es par\n",
        "        continue  # Salta a la siguiente iteración\n",
        "    print(numero)  # Imprime solo los números impares"
      ],
      "metadata": {
        "id": "cm1ewG94sggF"
      },
      "execution_count": null,
      "outputs": []
    },
    {
      "cell_type": "code",
      "source": [
        "contador = 1\n",
        "while contador <= 3:\n",
        "    print(f\"Intento número {contador}\")\n",
        "    contador += 1\n",
        "else:\n",
        "    print(\"Se completaron todos los intentos.\")"
      ],
      "metadata": {
        "id": "gGwcY-2psluc"
      },
      "execution_count": null,
      "outputs": []
    }
  ]
}