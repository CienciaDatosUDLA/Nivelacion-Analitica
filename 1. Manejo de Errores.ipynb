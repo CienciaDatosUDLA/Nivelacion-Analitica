{
  "nbformat": 4,
  "nbformat_minor": 0,
  "metadata": {
    "colab": {
      "provenance": []
    },
    "kernelspec": {
      "name": "python3",
      "display_name": "Python 3"
    },
    "language_info": {
      "name": "python"
    }
  },
  "cells": [
    {
      "cell_type": "code",
      "execution_count": null,
      "metadata": {
        "colab": {
          "base_uri": "https://localhost:8080/"
        },
        "id": "agLCB6U8Lqcy",
        "outputId": "add61e44-046d-49e9-fd86-14beb54d7e3a"
      },
      "outputs": [
        {
          "output_type": "stream",
          "name": "stdout",
          "text": [
            "¡No se puede dividir por cero!\n"
          ]
        }
      ],
      "source": [
        "try:\n",
        "    x = 10 / 0\n",
        "except ZeroDivisionError:\n",
        "    print(\"¡No se puede dividir por cero!\")"
      ]
    },
    {
      "cell_type": "code",
      "source": [
        "try:\n",
        "    x = int(input(\"Ingresa un número: \"))\n",
        "    result = 10 / x\n",
        "    print(\"El resultado es:\", result)\n",
        "except ZeroDivisionError:\n",
        "    print(\"¡No se puede dividir por cero!\")\n",
        "except ValueError:\n",
        "    print(\"¡Eso no es un número válido!\")"
      ],
      "metadata": {
        "colab": {
          "base_uri": "https://localhost:8080/"
        },
        "id": "5jdHnVHSLwAa",
        "outputId": "cabdd305-f8f8-4e5b-8eb5-08d3f2ed9b19"
      },
      "execution_count": null,
      "outputs": [
        {
          "output_type": "stream",
          "name": "stdout",
          "text": [
            "Ingresa un número: 2\n",
            "El resultado es: 5.0\n"
          ]
        }
      ]
    },
    {
      "cell_type": "code",
      "source": [
        "f = None  # Inicializamos f antes del bloque try\n",
        "\n",
        "try:\n",
        "    f = open(\"data.csv\", \"r\")\n",
        "    data = f.read()\n",
        "except FileNotFoundError:\n",
        "    print(\"¡Archivo no encontrado!\")\n",
        "finally:\n",
        "    if f:  # Verificamos si f fue abierta correctamente\n",
        "        f.close()\n",
        "        print(\"El archivo se ha cerrado.\")"
      ],
      "metadata": {
        "colab": {
          "base_uri": "https://localhost:8080/"
        },
        "id": "uLc8Xet7Lyr8",
        "outputId": "c091ca8a-62f0-457a-a545-79b1f1879e1a"
      },
      "execution_count": null,
      "outputs": [
        {
          "output_type": "stream",
          "name": "stdout",
          "text": [
            "¡Archivo no encontrado!\n"
          ]
        }
      ]
    }
  ]
}